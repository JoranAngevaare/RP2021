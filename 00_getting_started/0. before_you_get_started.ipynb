{
 "cells": [
  {
   "cell_type": "markdown",
   "metadata": {},
   "source": [
    "# A. Before you get started\n",
    "Author:\n",
    "\n",
    "J. Angevaare // <j.angevaare@nikhef.nl> //\n",
    "\n",
    "2020-05-25 & updates 2021-01-03"
   ]
  },
  {
   "cell_type": "markdown",
   "metadata": {},
   "source": [
    "-----------\n",
    "\n",
    "# B. What is this project about anyway?\n",
    "\n",
    "Good question! We have recorded an introduction for you guys so you can start with that:\n",
    "  - https://surfdrive.surf.nl/files/index.php/s/rMOcq6C5CpCBf4Q\n",
    "  \n",
    "There are some questions in there that you want to figure out before you continue, otherwise you'll have no idea what you are doing. You may find it very helpful that we have actually nicely written down what this 'Modulation' experiment actually is. This is the experiment where also the data that you are going to look at is coming from. The paper can be found here:\n",
    "  - https://arxiv.org/abs/1804.02765\n",
    "  \n",
    "After that, you can continue doing some (essential) checks below and start with the next tutorial where we take a look at a Co-60 spectrum.\n",
    "\n",
    "Finally if you run into a question related to radioactivity and you want a __very__ complete answer try the following (rather lengthy but excellent) reference:\n",
    " - Glenn Knoll - radiation detection and measurement\n",
    "\n",
    "-----------"
   ]
  },
  {
   "cell_type": "markdown",
   "metadata": {},
   "source": [
    "## C. Installing the required software\n",
    "These are some magic commands you can do in Ipython, I'm not going to explain it unless you ask because it is not needed to understand for the rest of the course."
   ]
  },
  {
   "cell_type": "code",
   "execution_count": 2,
   "metadata": {
    "ExecuteTime": {
     "end_time": "2021-01-03T15:46:15.194787Z",
     "start_time": "2021-01-03T15:46:13.012564Z"
    },
    "scrolled": false
   },
   "outputs": [
    {
     "name": "stdout",
     "output_type": "stream",
     "text": [
      "Obtaining file:///C:/Users/joran/RP2021\n",
      "Requirement already satisfied: jupyter in c:\\users\\joran\\anaconda3\\lib\\site-packages (from RP2021==0.0.1) (1.0.0)\n",
      "Requirement already satisfied: numba in c:\\users\\joran\\anaconda3\\lib\\site-packages (from RP2021==0.0.1) (0.44.1)\n",
      "Requirement already satisfied: numpy in c:\\users\\joran\\anaconda3\\lib\\site-packages (from RP2021==0.0.1) (1.16.4)\n",
      "Requirement already satisfied: matplotlib in c:\\users\\joran\\anaconda3\\lib\\site-packages (from RP2021==0.0.1) (3.1.0)\n",
      "Requirement already satisfied: pandas in c:\\users\\joran\\anaconda3\\lib\\site-packages (from RP2021==0.0.1) (0.24.2)\n",
      "Requirement already satisfied: uproot in c:\\users\\joran\\anaconda3\\lib\\site-packages\\uproot-4.0.1rc2-py3.7.egg (from RP2021==0.0.1) (4.0.1rc2)\n",
      "Requirement already satisfied: uproot3 in c:\\users\\joran\\anaconda3\\lib\\site-packages\\uproot3-3.14.2-py3.7.egg (from RP2021==0.0.1) (3.14.2)\n",
      "Requirement already satisfied: scipy in c:\\users\\joran\\anaconda3\\lib\\site-packages (from RP2021==0.0.1) (1.2.1)\n",
      "Requirement already satisfied: pyarrow in c:\\users\\joran\\anaconda3\\lib\\site-packages\\pyarrow-2.0.0-py3.7-win-amd64.egg (from RP2021==0.0.1) (2.0.0)\n",
      "Requirement already satisfied: fastparquet in c:\\users\\joran\\anaconda3\\lib\\site-packages\\fastparquet-0.5.0-py3.7-win-amd64.egg (from RP2021==0.0.1) (0.5.0)\n",
      "Requirement already satisfied: awkward in c:\\users\\joran\\anaconda3\\lib\\site-packages\\awkward-1.0.2rc3-py3.7-win-amd64.egg (from RP2021==0.0.1) (1.0.2rc3)\n",
      "Requirement already satisfied: tqdm in c:\\users\\joran\\anaconda3\\lib\\site-packages (from RP2021==0.0.1) (4.32.1)\n",
      "Requirement already satisfied: jupyter-console in c:\\users\\joran\\anaconda3\\lib\\site-packages (from jupyter->RP2021==0.0.1) (6.0.0)\n",
      "Requirement already satisfied: notebook in c:\\users\\joran\\anaconda3\\lib\\site-packages (from jupyter->RP2021==0.0.1) (6.0.0)\n",
      "Requirement already satisfied: qtconsole in c:\\users\\joran\\anaconda3\\lib\\site-packages (from jupyter->RP2021==0.0.1) (4.5.1)\n",
      "Requirement already satisfied: nbconvert in c:\\users\\joran\\anaconda3\\lib\\site-packages (from jupyter->RP2021==0.0.1) (5.5.0)\n",
      "Requirement already satisfied: ipywidgets in c:\\users\\joran\\anaconda3\\lib\\site-packages (from jupyter->RP2021==0.0.1) (7.5.0)\n",
      "Requirement already satisfied: ipykernel in c:\\users\\joran\\anaconda3\\lib\\site-packages (from jupyter->RP2021==0.0.1) (5.1.1)\n",
      "Requirement already satisfied: llvmlite>=0.29.0 in c:\\users\\joran\\anaconda3\\lib\\site-packages (from numba->RP2021==0.0.1) (0.29.0)\n",
      "Requirement already satisfied: cycler>=0.10 in c:\\users\\joran\\anaconda3\\lib\\site-packages (from matplotlib->RP2021==0.0.1) (0.10.0)\n",
      "Requirement already satisfied: kiwisolver>=1.0.1 in c:\\users\\joran\\anaconda3\\lib\\site-packages (from matplotlib->RP2021==0.0.1) (1.1.0)\n",
      "Requirement already satisfied: pyparsing!=2.0.4,!=2.1.2,!=2.1.6,>=2.0.1 in c:\\users\\joran\\anaconda3\\lib\\site-packages (from matplotlib->RP2021==0.0.1) (2.4.0)\n",
      "Requirement already satisfied: python-dateutil>=2.1 in c:\\users\\joran\\anaconda3\\lib\\site-packages (from matplotlib->RP2021==0.0.1) (2.8.0)\n",
      "Requirement already satisfied: pytz>=2011k in c:\\users\\joran\\anaconda3\\lib\\site-packages (from pandas->RP2021==0.0.1) (2019.1)\n",
      "Collecting awkward0 (from uproot3->RP2021==0.0.1)\n",
      "  Downloading https://files.pythonhosted.org/packages/93/74/90e008f7082103fe15e90f7b3de5226053baa9f360ef1cce2eb2184e5c98/awkward0-0.15.2-py3-none-any.whl (87kB)\n",
      "Collecting cachetools (from uproot3->RP2021==0.0.1)\n",
      "  Downloading https://files.pythonhosted.org/packages/92/da/d3c94fc7c72ad9298072681ec3e8cea86949acc5c4cce4290ba21f7050a8/cachetools-4.2.0-py3-none-any.whl\n",
      "Collecting uproot3-methods (from uproot3->RP2021==0.0.1)\n",
      "  Downloading https://files.pythonhosted.org/packages/b7/bc/0cc6e815361218923dc27e8f511036d6d96ab366ea25994a89ac9ac9ba6f/uproot3_methods-0.10.0-py3-none-any.whl\n",
      "Collecting thrift>=0.11.0 (from fastparquet->RP2021==0.0.1)\n",
      "  Downloading https://files.pythonhosted.org/packages/97/1e/3284d19d7be99305eda145b8aa46b0c33244e4a496ec66440dac19f8274d/thrift-0.13.0.tar.gz (59kB)\n",
      "Requirement already satisfied: setuptools in c:\\users\\joran\\anaconda3\\lib\\site-packages (from awkward->RP2021==0.0.1) (41.0.1)\n",
      "Requirement already satisfied: jupyter_client in c:\\users\\joran\\anaconda3\\lib\\site-packages (from jupyter-console->jupyter->RP2021==0.0.1) (5.3.1)\n",
      "Requirement already satisfied: ipython in c:\\users\\joran\\anaconda3\\lib\\site-packages (from jupyter-console->jupyter->RP2021==0.0.1) (7.6.1)\n",
      "Requirement already satisfied: prompt_toolkit<2.1.0,>=2.0.0 in c:\\users\\joran\\anaconda3\\lib\\site-packages (from jupyter-console->jupyter->RP2021==0.0.1) (2.0.9)\n",
      "Requirement already satisfied: pygments in c:\\users\\joran\\anaconda3\\lib\\site-packages (from jupyter-console->jupyter->RP2021==0.0.1) (2.4.2)\n",
      "Requirement already satisfied: tornado>=5.0 in c:\\users\\joran\\anaconda3\\lib\\site-packages (from notebook->jupyter->RP2021==0.0.1) (6.0.3)\n",
      "Requirement already satisfied: jupyter-core>=4.4.0 in c:\\users\\joran\\anaconda3\\lib\\site-packages (from notebook->jupyter->RP2021==0.0.1) (4.5.0)\n",
      "Requirement already satisfied: prometheus-client in c:\\users\\joran\\anaconda3\\lib\\site-packages (from notebook->jupyter->RP2021==0.0.1) (0.7.1)\n",
      "Requirement already satisfied: ipython-genutils in c:\\users\\joran\\anaconda3\\lib\\site-packages (from notebook->jupyter->RP2021==0.0.1) (0.2.0)\n",
      "Requirement already satisfied: Send2Trash in c:\\users\\joran\\anaconda3\\lib\\site-packages (from notebook->jupyter->RP2021==0.0.1) (1.5.0)\n",
      "Requirement already satisfied: nbformat in c:\\users\\joran\\anaconda3\\lib\\site-packages (from notebook->jupyter->RP2021==0.0.1) (4.4.0)\n",
      "Requirement already satisfied: pyzmq>=17 in c:\\users\\joran\\anaconda3\\lib\\site-packages (from notebook->jupyter->RP2021==0.0.1) (18.0.0)\n",
      "Requirement already satisfied: jinja2 in c:\\users\\joran\\anaconda3\\lib\\site-packages (from notebook->jupyter->RP2021==0.0.1) (2.10.1)\n",
      "Requirement already satisfied: terminado>=0.8.1 in c:\\users\\joran\\anaconda3\\lib\\site-packages (from notebook->jupyter->RP2021==0.0.1) (0.8.2)\n",
      "Requirement already satisfied: traitlets>=4.2.1 in c:\\users\\joran\\anaconda3\\lib\\site-packages (from notebook->jupyter->RP2021==0.0.1) (4.3.2)\n",
      "Requirement already satisfied: bleach in c:\\users\\joran\\anaconda3\\lib\\site-packages (from nbconvert->jupyter->RP2021==0.0.1) (3.1.0)\n",
      "Requirement already satisfied: pandocfilters>=1.4.1 in c:\\users\\joran\\anaconda3\\lib\\site-packages (from nbconvert->jupyter->RP2021==0.0.1) (1.4.2)\n",
      "Requirement already satisfied: mistune>=0.8.1 in c:\\users\\joran\\anaconda3\\lib\\site-packages (from nbconvert->jupyter->RP2021==0.0.1) (0.8.4)\n",
      "Requirement already satisfied: entrypoints>=0.2.2 in c:\\users\\joran\\anaconda3\\lib\\site-packages (from nbconvert->jupyter->RP2021==0.0.1) (0.3)\n",
      "Requirement already satisfied: defusedxml in c:\\users\\joran\\anaconda3\\lib\\site-packages (from nbconvert->jupyter->RP2021==0.0.1) (0.6.0)\n",
      "Requirement already satisfied: testpath in c:\\users\\joran\\anaconda3\\lib\\site-packages (from nbconvert->jupyter->RP2021==0.0.1) (0.4.2)\n",
      "Requirement already satisfied: widgetsnbextension~=3.5.0 in c:\\users\\joran\\anaconda3\\lib\\site-packages (from ipywidgets->jupyter->RP2021==0.0.1) (3.5.0)\n",
      "Requirement already satisfied: six in c:\\users\\joran\\anaconda3\\lib\\site-packages (from cycler>=0.10->matplotlib->RP2021==0.0.1) (1.12.0)\n",
      "Requirement already satisfied: jedi>=0.10 in c:\\users\\joran\\anaconda3\\lib\\site-packages (from ipython->jupyter-console->jupyter->RP2021==0.0.1) (0.13.3)\n",
      "Requirement already satisfied: decorator in c:\\users\\joran\\anaconda3\\lib\\site-packages (from ipython->jupyter-console->jupyter->RP2021==0.0.1) (4.4.0)\n",
      "Requirement already satisfied: colorama; sys_platform == \"win32\" in c:\\users\\joran\\anaconda3\\lib\\site-packages (from ipython->jupyter-console->jupyter->RP2021==0.0.1) (0.4.1)\n",
      "Requirement already satisfied: backcall in c:\\users\\joran\\anaconda3\\lib\\site-packages (from ipython->jupyter-console->jupyter->RP2021==0.0.1) (0.1.0)\n",
      "Requirement already satisfied: pickleshare in c:\\users\\joran\\anaconda3\\lib\\site-packages (from ipython->jupyter-console->jupyter->RP2021==0.0.1) (0.7.5)\n",
      "Requirement already satisfied: wcwidth in c:\\users\\joran\\anaconda3\\lib\\site-packages (from prompt_toolkit<2.1.0,>=2.0.0->jupyter-console->jupyter->RP2021==0.0.1) (0.1.7)\n",
      "Requirement already satisfied: jsonschema!=2.5.0,>=2.4 in c:\\users\\joran\\anaconda3\\lib\\site-packages (from nbformat->notebook->jupyter->RP2021==0.0.1) (3.0.1)\n",
      "Requirement already satisfied: MarkupSafe>=0.23 in c:\\users\\joran\\anaconda3\\lib\\site-packages (from jinja2->notebook->jupyter->RP2021==0.0.1) (1.1.1)\n",
      "Requirement already satisfied: webencodings in c:\\users\\joran\\anaconda3\\lib\\site-packages (from bleach->nbconvert->jupyter->RP2021==0.0.1) (0.5.1)\n",
      "Requirement already satisfied: parso>=0.3.0 in c:\\users\\joran\\anaconda3\\lib\\site-packages (from jedi>=0.10->ipython->jupyter-console->jupyter->RP2021==0.0.1) (0.5.0)\n",
      "Requirement already satisfied: attrs>=17.4.0 in c:\\users\\joran\\anaconda3\\lib\\site-packages (from jsonschema!=2.5.0,>=2.4->nbformat->notebook->jupyter->RP2021==0.0.1) (19.1.0)\n",
      "Requirement already satisfied: pyrsistent>=0.14.0 in c:\\users\\joran\\anaconda3\\lib\\site-packages (from jsonschema!=2.5.0,>=2.4->nbformat->notebook->jupyter->RP2021==0.0.1) (0.14.11)\n",
      "Building wheels for collected packages: thrift\n",
      "  Building wheel for thrift (setup.py): started\n",
      "  Building wheel for thrift (setup.py): finished with status 'done'\n",
      "  Stored in directory: C:\\Users\\joran\\AppData\\Local\\pip\\Cache\\wheels\\02\\a2\\46\\689ccfcf40155c23edc7cdbd9de488611c8fdf49ff34b1706e\n",
      "Successfully built thrift\n",
      "Installing collected packages: RP2021, awkward0, cachetools, uproot3-methods, thrift\n",
      "  Found existing installation: RP2021 0.0.1\n",
      "    Uninstalling RP2021-0.0.1:\n",
      "      Successfully uninstalled RP2021-0.0.1\n",
      "  Running setup.py develop for RP2021\n",
      "Successfully installed RP2021 awkward0-0.15.2 cachetools-4.2.0 thrift-0.13.0 uproot3-methods-0.10.0\n"
     ]
    },
    {
     "name": "stderr",
     "output_type": "stream",
     "text": [
      "ERROR: fastparquet 0.5.0 has requirement numba>=0.49, but you'll have numba 0.44.1 which is incompatible.\n",
      "ERROR: fastparquet 0.5.0 has requirement pandas>=1.1.0, but you'll have pandas 0.24.2 which is incompatible.\n"
     ]
    }
   ],
   "source": [
    "# on windows:\n",
    "!pip install -e .\\\\..\\\\..\\\\RP2021\n",
    "\n",
    "# or on linux uncommment this line:\n",
    "# !cd ../ ; python setup.py develop"
   ]
  },
  {
   "cell_type": "markdown",
   "metadata": {},
   "source": [
    "-----------\n",
    "## D. Checking the packages\n",
    "Before we can start with actually opening files and generating spectra we need to make sure you have a working python environment to work in. To this end we first need to have to cell below working otherwise we may need to install some packages.\n",
    "\n",
    "Execute the cell below:"
   ]
  },
  {
   "cell_type": "code",
   "execution_count": 3,
   "metadata": {
    "ExecuteTime": {
     "end_time": "2021-01-03T15:46:37.048333Z",
     "start_time": "2021-01-03T15:46:35.822336Z"
    }
   },
   "outputs": [],
   "source": [
    "import pandas as pd\n",
    "import numpy as np\n",
    "import matplotlib.pyplot as plt\n",
    "import uproot\n",
    "import numba\n",
    "import RP2021"
   ]
  },
  {
   "cell_type": "markdown",
   "metadata": {},
   "source": [
    "**If** you get somthing  like:\n",
    "```\n",
    "---------------------------------------------------------------------------\n",
    "ModuleNotFoundError                       Traceback (most recent call last)\n",
    "<ipython-input-2-b7b06ad0c640> in <module>\n",
    "----> 1 import numba\n",
    "\n",
    "ModuleNotFoundError: No module named 'numba'\n",
    "```\n",
    "\n",
    "**Then, do the following:**\n",
    " 1. restart this notebook (Kernel -> Restart)\n",
    " 2. if the error persists after `1.`, we need to install that. You can do this by for example uncommenting the relevant line below (or if you are lazy just execute all of them or the last one).\n",
    " \n",
    "If you do not get such an error, you can proceed to `E.`. "
   ]
  },
  {
   "cell_type": "code",
   "execution_count": 4,
   "metadata": {
    "ExecuteTime": {
     "end_time": "2021-01-03T15:46:39.613423Z",
     "start_time": "2021-01-03T15:46:39.610973Z"
    }
   },
   "outputs": [],
   "source": [
    "# # Uncomment whatever you need\n",
    "# !pip install pandas\n",
    "# !pip install numpy\n",
    "# !pip install uproot\n",
    "# !pip install numba\n",
    "# !pip install matplotlib\n",
    "# !cd ../ ; python setup.py develop # if RP2021 does not import"
   ]
  },
  {
   "cell_type": "code",
   "execution_count": 5,
   "metadata": {
    "ExecuteTime": {
     "end_time": "2021-01-03T15:46:40.542380Z",
     "start_time": "2021-01-03T15:46:40.539873Z"
    }
   },
   "outputs": [],
   "source": [
    "# # Or, if you are lazy do this:\n",
    "# !pip install pandas numpy uproot numba matplotlib ; cd ../ ; python setup.py develop "
   ]
  },
  {
   "cell_type": "markdown",
   "metadata": {},
   "source": [
    "## E. Checking python version\n",
    "We assume you have python 3.6 or higher. Check that using the lines below:"
   ]
  },
  {
   "cell_type": "code",
   "execution_count": 6,
   "metadata": {
    "ExecuteTime": {
     "end_time": "2021-01-03T15:46:41.550303Z",
     "start_time": "2021-01-03T15:46:41.546602Z"
    }
   },
   "outputs": [
    {
     "name": "stdout",
     "output_type": "stream",
     "text": [
      "3.7.3\n"
     ]
    }
   ],
   "source": [
    "import platform\n",
    "print(platform.python_version())"
   ]
  },
  {
   "cell_type": "code",
   "execution_count": 7,
   "metadata": {
    "ExecuteTime": {
     "end_time": "2021-01-03T15:46:42.101160Z",
     "start_time": "2021-01-03T15:46:42.097740Z"
    }
   },
   "outputs": [
    {
     "name": "stdout",
     "output_type": "stream",
     "text": [
      "This wonderderfull line will not work in old python versions. If it does you have a good version: v3.7.3\n"
     ]
    }
   ],
   "source": [
    "print(f'This wonderderfull line will not work in old python versions. '\n",
    "      f'If it does you have a good version: v{platform.python_version()}')"
   ]
  },
  {
   "cell_type": "markdown",
   "metadata": {},
   "source": [
    "## F. Done\n",
    "Let's go to the next notebook"
   ]
  }
 ],
 "metadata": {
  "kernelspec": {
   "display_name": "Python 3",
   "language": "python",
   "name": "python3"
  },
  "language_info": {
   "codemirror_mode": {
    "name": "ipython",
    "version": 3
   },
   "file_extension": ".py",
   "mimetype": "text/x-python",
   "name": "python",
   "nbconvert_exporter": "python",
   "pygments_lexer": "ipython3",
   "version": "3.7.3"
  },
  "varInspector": {
   "cols": {
    "lenName": 16,
    "lenType": 16,
    "lenVar": 40
   },
   "kernels_config": {
    "python": {
     "delete_cmd_postfix": "",
     "delete_cmd_prefix": "del ",
     "library": "var_list.py",
     "varRefreshCmd": "print(var_dic_list())"
    },
    "r": {
     "delete_cmd_postfix": ") ",
     "delete_cmd_prefix": "rm(",
     "library": "var_list.r",
     "varRefreshCmd": "cat(var_dic_list()) "
    }
   },
   "types_to_exclude": [
    "module",
    "function",
    "builtin_function_or_method",
    "instance",
    "_Feature"
   ],
   "window_display": false
  }
 },
 "nbformat": 4,
 "nbformat_minor": 4
}
